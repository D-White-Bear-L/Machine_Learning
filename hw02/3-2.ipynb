{
 "cells": [
  {
   "cell_type": "code",
   "execution_count": null,
   "metadata": {},
   "outputs": [],
   "source": [
    "# 导入机器学习所需的包\n",
    "\n",
    "# 导入交叉验证相关的工具\n",
    "from sklearn.model_selection import KFold          # 导入K折交叉验证\n",
    "from sklearn.model_selection import cross_val_score # 导入交叉验证评分工具\n",
    "\n",
    "# 导入集成学习相关的分类器\n",
    "from sklearn.ensemble import BaggingClassifier     # 导入Bagging集成分类器\n",
    "from sklearn.tree import DecisionTreeClassifier    # 导入决策树分类器作为基分类器\n",
    "\n",
    "# 导入数据集\n",
    "from sklearn import datasets                       # 导入sklearn自带的标准数据集\n"
   ]
  },
  {
   "cell_type": "code",
   "execution_count": null,
   "metadata": {},
   "outputs": [],
   "source": [
    "# 加载IRIS数据集\n",
    "# IRIS数据集是机器学习中最著名的数据集之一\n",
    "# 包含3种不同类型的鸢尾花：Setosa、Versicolor和Virginica\n",
    "# 每种花都有50个样本，共150个样本\n",
    "# 每个样本包含4个特征：\n",
    "# 1. 萼片长度 (Sepal Length)\n",
    "# 2. 萼片宽度 (Sepal Width)\n",
    "# 3. 花瓣长度 (Petal Length)\n",
    "# 4. 花瓣宽度 (Petal Width)\n",
    "iris = datasets.load_iris()\n",
    "\n",
    "# X存储特征矩阵，形状为(150, 4)\n",
    "# 每一行代表一个样本，每一列代表一个特征\n",
    "X = iris.data\n",
    "\n",
    "# Y存储目标变量，形状为(150,)\n",
    "# 包含0,1,2三个类别标签，分别代表三种鸢尾花\n",
    "Y = iris.target"
   ]
  },
  {
   "cell_type": "code",
   "execution_count": 9,
   "metadata": {},
   "outputs": [
    {
     "name": "stdout",
     "output_type": "stream",
     "text": [
      "CART树结果： 0.9466666666666667\n",
      "装袋法提升后结果： 0.9400000000000001\n"
     ]
    }
   ],
   "source": [
    "# 分类器及交叉检验\n",
    "# 设置随机种子以确保结果可重现\n",
    "seed = 42\n",
    "\n",
    "# 创建K折交叉验证对象\n",
    "# n_splits=10: 将数据集分成10份\n",
    "# shuffle=True: 在分割前随机打乱数据，有助于防止过拟合\n",
    "# random_state=seed: 设置随机状态，确保可重现性\n",
    "kfold = KFold(n_splits=10, shuffle=True, random_state=seed) # 添加shuffle=True 解决过拟合\n",
    "\n",
    "# 创建决策树分类器\n",
    "# criterion='gini': 使用基尼系数作为分裂标准\n",
    "# max_depth=2: 限制树的最大深度为2，防止过拟合\n",
    "cart = DecisionTreeClassifier(criterion='gini',max_depth=2)\n",
    "\n",
    "# 使用训练数据拟合模型\n",
    "cart = cart.fit(X ,Y)\n",
    "\n",
    "# 对决策树模型进行交叉验证评估\n",
    "# cross_val_score返回每个折叠的准确率\n",
    "result = cross_val_score(cart, X, Y, cv=kfold)\n",
    "print(\"CART树结果：\",result.mean())\n",
    "\n",
    "# 创建Bagging集成分类器\n",
    "# estimator=cart: 使用上面创建的决策树作为基分类器\n",
    "# n_estimators=100: 集成100个基分类器\n",
    "# random_state=seed: 设置随机状态确保可重现性\n",
    "model = BaggingClassifier(estimator=cart, n_estimators=100, random_state=seed)\n",
    "\n",
    "# 对Bagging模型进行交叉验证评估\n",
    "result = cross_val_score(model, X, Y, cv=kfold)\n",
    "print(\"装袋法提升后结果：\",result.mean())"
   ]
  }
 ],
 "metadata": {
  "kernelspec": {
   "display_name": ".venv",
   "language": "python",
   "name": "python3"
  },
  "language_info": {
   "codemirror_mode": {
    "name": "ipython",
    "version": 3
   },
   "file_extension": ".py",
   "mimetype": "text/x-python",
   "name": "python",
   "nbconvert_exporter": "python",
   "pygments_lexer": "ipython3",
   "version": "3.11.9"
  }
 },
 "nbformat": 4,
 "nbformat_minor": 2
}
